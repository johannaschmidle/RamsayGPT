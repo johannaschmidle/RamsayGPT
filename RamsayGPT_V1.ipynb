{
 "cells": [
  {
   "cell_type": "markdown",
   "id": "4743931e-340c-4024-b1df-a288c9aa963e",
   "metadata": {},
   "source": [
    "### Version 2.1\n",
    "Did not hardcode the greeting (it is still in prompt)\n",
    "\n",
    "- RamsayGPT_V1.ipynb\n",
    "- RamsayPersonality_V1.txt"
   ]
  },
  {
   "cell_type": "code",
   "execution_count": 1,
   "id": "a4f89013-5cd5-48a7-b749-e46d09be1a92",
   "metadata": {},
   "outputs": [],
   "source": [
    "import openai\n",
    "import os"
   ]
  },
  {
   "cell_type": "code",
   "execution_count": 3,
   "id": "28230ae7-3924-4e50-bf5d-69e9df01864a",
   "metadata": {},
   "outputs": [],
   "source": [
    "# Setting up \n",
    "API_KEY = open(\"ApiKey.txt\", \"r\").read().strip()\n",
    "openai.api_key = API_KEY\n",
    "\n",
    "context = open(\"RamsayPersonality_V1.txt\", \"r\").read()\n",
    "\n",
    "menu = \"\"\"Here are your options:\n",
    "1. Variations on a topic: I'll give you 3 alternative ways to tackle a problem and compare them. It's like showing you how to cook a steak three ways – you better not mess it up!\n",
    "2. Make a game for learning: We'll cook up an interactive game to teach you a concept step by step. Think of it as crafting a dessert with layers of information. Don't burn it!\n",
    "3. Explain a concept: I'll break down a topic into bite-sized pieces, perfect for your little beginner appetite. It's like explaining how to boil an egg to a clueless sous chef.\n",
    "\n",
    "Remember, you're in my kitchen now. Enter your request or type \"menu\" to get your three options again. And if you can't handle the heat, say \"quit\" to end our tutoring session. Now, what's it going to be chef?\n",
    "\"\"\""
   ]
  },
  {
   "cell_type": "code",
   "execution_count": 4,
   "id": "4b052662-9609-4ae1-95b1-fad2b6781c5a",
   "metadata": {},
   "outputs": [],
   "source": [
    "class RamsayGPT:\n",
    "    def __init__(self, api_key):\n",
    "        self.api_key = api_key\n",
    "        openai.api_key = self.api_key\n",
    "        self.context = context\n",
    "        self.chat_log = [{'role':'assistant', 'content': self.context}]\n",
    "\n",
    "    def show_menu(self):\n",
    "        return menu\n",
    "\n",
    "    def ramsay_response(self, user_message):\n",
    "        self.chat_log.append({\"role\": \"user\", \"content\": user_message})\n",
    "        \n",
    "        try: \n",
    "            response = openai.chat.completions.create(\n",
    "                model=\"gpt-4\",\n",
    "                messages=self.chat_log\n",
    "            )\n",
    "            \n",
    "            assistant_response = response.choices[0].message.content\n",
    "        \n",
    "        except Exception as e:\n",
    "            assistant_response = \"Something went wrong, you donkey! Try again or type 'menu'.\"\n",
    "        \n",
    "        return assistant_response.strip()\n",
    "\n",
    "    def chat(self):\n",
    "        print(\"Say hello to Chef Ramsay!\")\n",
    "        while True:\n",
    "            user_message = input(\"You:\")\n",
    "            if user_message.lower() == \"quit\":\n",
    "                print(\"RamsayGPT: Can't handle the heat? Pathetic. Now get out of my kitchen!!\")\n",
    "                break\n",
    "            elif user_message.lower() == \"menu\":\n",
    "                print(\"RamsayGPT:\", self.show_menu())\n",
    "            else:\n",
    "                assistant_response = self.ramsay_response(user_message)\n",
    "                print(\"RamsayGPT:\", assistant_response)\n",
    "                self.chat_log.append({\"role\": \"assistant\", \"content\": assistant_response})"
   ]
  },
  {
   "cell_type": "code",
   "execution_count": 7,
   "id": "e6f82e85-3423-4441-9c29-8908ec9d5fd7",
   "metadata": {},
   "outputs": [
    {
     "name": "stdout",
     "output_type": "stream",
     "text": [
      "Say hello to Chef Ramsay!\n"
     ]
    },
    {
     "name": "stdin",
     "output_type": "stream",
     "text": [
      "You: hello!\n"
     ]
    },
    {
     "name": "stdout",
     "output_type": "stream",
     "text": [
      "RamsayGPT: Oh, look who it is, a lost soul stumbling into my digital kitchen. Do you want to learn something new or are you just here to waste thyme? \n",
      "\n",
      "Now, PAY ATTENTION, and choose from the menu options below:\n",
      "\n",
      "1. Variations on a topic: I'll give you 3 alternative ways to tackle a problem and compare them. It's like showing you how to cook a steak three ways – you better not mess it up!\n",
      "2. Make a game for learning: We'll cook up an interactive game to teach you a concept step by step. Think of it as crafting a dessert with layers of information. Don't burn it!\n",
      "3. Explain a concept: I'll break down a topic into bite-sized pieces, perfect for your little beginner appetite. It's like explaining how to boil an egg to a clueless sous chef.\n",
      "\n",
      "Remember, you're in my kitchen now. Enter your request or type \"menu\" to get your three options again. And if you can't handle the heat, say \"quit\" to end our tutoring session. Now, what's it going to be chef?\n"
     ]
    },
    {
     "name": "stdin",
     "output_type": "stream",
     "text": [
      "You: Variations\n"
     ]
    },
    {
     "name": "stdout",
     "output_type": "stream",
     "text": [
      "RamsayGPT: Oh, great. You decided to choose a method but forget to mention a topic. That’s like saying you want to cook without any ingredients. You've warmed up, now turn on the bloody heat and tell me: Variations on what?\n"
     ]
    },
    {
     "name": "stdin",
     "output_type": "stream",
     "text": [
      "You: Tofu\n"
     ]
    },
    {
     "name": "stdout",
     "output_type": "stream",
     "text": [
      "RamsayGPT: Ah, tofu! That soggy block of flavorless mush! It's got a bad reputation but that's because people treat it like a doorstep. But in capable hands, tofu is a versatile ingredient that can be transformed into a range of delicious dishes. Just like how a complicated problem can be approached in numerous ways.\n",
      "\n",
      "Approach 1: Treat it like meat! Press it to remove excess water, marinate it in some strong flavours, and then grill it or bake it. Just like you'd break down a complex problem into parts, tackle each individually, and then combine them for the final solution. A methodical approach that yields results but might be time-consuming.\n",
      "\n",
      "Approach 2: Use it as is, turn it into a scramble or use it in soups. Quite like looking at a problem and applying a simple, fast-paced solution. It might not be as nuanced or thorough, but it gets the job done. \n",
      "\n",
      "Approach 3: Transform it by blending into sauces or desserts. It's about being creative and out-of-the-box in your solutions. It's unconventional and might not even seem like the same ingredient/problem but is certainly intriguing. \n",
      "\n",
      "So there you have it. It's not rocket science, you know. But remember, a good chef/problem solver respects their ingredients/problems and tailors their approach accordingly. Now, any more childish questions, or are you ready to actually cook?\n"
     ]
    },
    {
     "name": "stdin",
     "output_type": "stream",
     "text": [
      "You: Can you teach me through a game?\n"
     ]
    },
    {
     "name": "stdout",
     "output_type": "stream",
     "text": [
      "RamsayGPT: For the love of... You've left out the all-important ingredient again: the bloody topic! Are we baking a Victoria sponge or grilling a steak? Specify your topic, chef, and let's get this show on the road!\n"
     ]
    },
    {
     "name": "stdin",
     "output_type": "stream",
     "text": [
      "You: tofu\n"
     ]
    },
    {
     "name": "stdout",
     "output_type": "stream",
     "text": [
      "RamsayGPT: Well, well, well. I see we're stuck in some weird tofu obsession. But that's alright, chef. If it's a tofu game you want, it's a tofu game you'll get. \n",
      "\n",
      "Imagine you're in this sprawling local market, surrounded by piles of fresh produce and quirky vendors. Your goal? To find the best tofu and make a delicious dish out of it. \n",
      "\n",
      "The best part of the game? Each decision you make affects the outcome.\n",
      "\n",
      "Shall we begin? You're standing at the tofu stall. There are 3 different kinds of tofu here. One is silky soft, one is medium firmness, and one is extra firm. Which one do you choose?\n"
     ]
    },
    {
     "name": "stdin",
     "output_type": "stream",
     "text": [
      "You: medium\n"
     ]
    },
    {
     "name": "stdout",
     "output_type": "stream",
     "text": [
      "RamsayGPT: Well, aren't you a little predictable? Medium tofu, safe and balanced. Not too soft, not too hard. I guess you're the Silverilocks of tofu selection. Let's just hope the bears don't come home. \n",
      "\n",
      "Right, onwards, you've got your medium tofu. Good for a nice stir-fry, I suppose. Now, you're at the seasoning section. You have soy sauce, sesame oil and chili paste. You can take two. Hurry up now, we don't have all day! Which ones will you take?\n"
     ]
    },
    {
     "name": "stdin",
     "output_type": "stream",
     "text": [
      "You: quit\n"
     ]
    },
    {
     "name": "stdout",
     "output_type": "stream",
     "text": [
      "RamsayGPT: Can't handle the heat? Pathetic. Now get out of my kitchen!!\n"
     ]
    }
   ],
   "source": [
    "# Initialize and start chat\n",
    "ramsay = RamsayGPT(API_KEY)\n",
    "ramsay.chat()"
   ]
  },
  {
   "cell_type": "code",
   "execution_count": null,
   "id": "3f5e175c-e826-411d-b5ff-052e01b00bb2",
   "metadata": {},
   "outputs": [],
   "source": []
  }
 ],
 "metadata": {
  "kernelspec": {
   "display_name": "Python 3 (ipykernel)",
   "language": "python",
   "name": "python3"
  },
  "language_info": {
   "codemirror_mode": {
    "name": "ipython",
    "version": 3
   },
   "file_extension": ".py",
   "mimetype": "text/x-python",
   "name": "python",
   "nbconvert_exporter": "python",
   "pygments_lexer": "ipython3",
   "version": "3.11.7"
  }
 },
 "nbformat": 4,
 "nbformat_minor": 5
}
