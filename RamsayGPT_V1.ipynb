{
 "cells": [
  {
   "cell_type": "markdown",
   "id": "4743931e-340c-4024-b1df-a288c9aa963e",
   "metadata": {},
   "source": [
    "### Version 2.1\n",
    "Did not hardcode the greeting (it is still in prompt)\n",
    "\n",
    "- RamsayGPT_V1.ipynb\n",
    "- RamsayPersonality_V1.txt"
   ]
  },
  {
   "cell_type": "code",
   "execution_count": 1,
   "id": "a4f89013-5cd5-48a7-b749-e46d09be1a92",
   "metadata": {},
   "outputs": [],
   "source": [
    "import openai\n",
    "import os"
   ]
  },
  {
   "cell_type": "code",
   "execution_count": 3,
   "id": "28230ae7-3924-4e50-bf5d-69e9df01864a",
   "metadata": {},
   "outputs": [],
   "source": [
    "# Setting up \n",
    "API_KEY = open(\"ApiKey.txt\", \"r\").read().strip()\n",
    "openai.api_key = API_KEY\n",
    "\n",
    "context = open(\"RamsayPersonality_V1.txt\", \"r\").read()\n",
    "\n",
    "menu = \"\"\"Here are your options:\n",
    "1. Variations on a topic: I'll give you 3 alternative ways to tackle a problem and compare them. It's like showing you how to cook a steak three ways – you better not mess it up!\n",
    "2. Make a game for learning: We'll cook up an interactive game to teach you a concept step by step. Think of it as crafting a dessert with layers of information. Don't burn it!\n",
    "3. Explain a concept: I'll break down a topic into bite-sized pieces, perfect for your little beginner appetite. It's like explaining how to boil an egg to a clueless sous chef.\n",
    "\n",
    "Remember, you're in my kitchen now. Enter your request or type \"menu\" to get your three options again. And if you can't handle the heat, say \"quit\" to end our tutoring session. Now, what's it going to be chef?\n",
    "\"\"\""
   ]
  },
  {
   "cell_type": "code",
   "execution_count": 5,
   "id": "4b052662-9609-4ae1-95b1-fad2b6781c5a",
   "metadata": {},
   "outputs": [],
   "source": [
    "class RamsayGPT:\n",
    "    def __init__(self, api_key):\n",
    "        self.api_key = api_key\n",
    "        openai.api_key = self.api_key\n",
    "        self.context = context\n",
    "        self.chat_log = [{'role':'assistant', 'content': self.context}]\n",
    "\n",
    "    def show_menu(self):\n",
    "        return menu\n",
    "\n",
    "    def ramsay_response(self, user_message):\n",
    "        self.chat_log.append({\"role\": \"user\", \"content\": user_message})\n",
    "        \n",
    "        try: \n",
    "            response = openai.chat.completions.create(\n",
    "                model=\"gpt-4\",\n",
    "                messages=self.chat_log\n",
    "            )\n",
    "            \n",
    "            assistant_response = response.choices[0].message.content\n",
    "        \n",
    "        except Exception as e:\n",
    "            assistant_response = \"Something went wrong, you donkey! Try again or type 'menu'.\"\n",
    "        \n",
    "        return assistant_response.strip()\n",
    "\n",
    "    def chat(self):\n",
    "        print(\"Say hello to Chef Ramsay!\")\n",
    "        while True:\n",
    "            user_message = input(\"You:\")\n",
    "            if user_message.lower() == \"quit\":\n",
    "                print(\"RamsayGPT: Can't handle the heat? Pathetic. Now get out of my kitchen!!\")\n",
    "                break\n",
    "            elif user_message.lower() == \"menu\":\n",
    "                print(\"RamsayGPT:\", self.show_menu())\n",
    "            else:\n",
    "                assistant_response = self.ramsay_response(user_message)\n",
    "                print(\"RamsayGPT:\", assistant_response)\n",
    "                self.chat_log.append({\"role\": \"assistant\", \"content\": assistant_response})"
   ]
  },
  {
   "cell_type": "code",
   "execution_count": 7,
   "id": "e6f82e85-3423-4441-9c29-8908ec9d5fd7",
   "metadata": {},
   "outputs": [
    {
     "name": "stdout",
     "output_type": "stream",
     "text": [
      "Say hello to Chef Ramsay!\n"
     ]
    },
    {
     "name": "stdin",
     "output_type": "stream",
     "text": [
      "You: hello\n"
     ]
    },
    {
     "name": "stdout",
     "output_type": "stream",
     "text": [
      "RamsayGPT: Oh, look who it is, a lost soul stumbling into my digital kitchen. Do you want to learn something new or are you just here to waste thyme? \n",
      "\n",
      "Now, PAY ATTENTION, and choose from the menu options below:\n",
      "\n",
      "1. Variations on a topic: I'll give you 3 alternative ways to tackle a problem and compare them. It's like showing you how to cook a steak three ways – you better not mess it up!\n",
      "2. Make a game for learning: We'll cook up an interactive game to teach you a concept step by step. Think of it as crafting a dessert with layers of information. Don't burn it!\n",
      "3. Explain a concept: I'll break down a topic into bite-sized pieces, perfect for your little beginner appetite. It's like explaining how to boil an egg to a clueless sous chef.\n",
      "\n",
      "Remember, you're in my kitchen now. Enter your request or type \"menu\" to get your three options again. And if you can't handle the heat, say \"quit\" to end our tutoring session. Now, what's it going to be chef?\n"
     ]
    },
    {
     "name": "stdin",
     "output_type": "stream",
     "text": [
      "You: variations topic\n"
     ]
    },
    {
     "name": "stdout",
     "output_type": "stream",
     "text": [
      "RamsayGPT: Hold your horses, lad! How about you try to include an actual topic with your request? It can't be that hard, can it? It's like making toast without the bread! Use your noggin, right? I need a specific topic or you'll get burned. As in, \"Variations on how to make a toast\". Try again, you donut!\n"
     ]
    },
    {
     "name": "stdin",
     "output_type": "stream",
     "text": [
      "You: quit\n"
     ]
    },
    {
     "name": "stdout",
     "output_type": "stream",
     "text": [
      "RamsayGPT: Can't handle the heat? Pathetic. Now get out of my kitchen!!\n"
     ]
    }
   ],
   "source": [
    "# Initialize and start chat\n",
    "ramsay = RamsayGPT(API_KEY)\n",
    "ramsay.chat()"
   ]
  },
  {
   "cell_type": "code",
   "execution_count": null,
   "id": "3f5e175c-e826-411d-b5ff-052e01b00bb2",
   "metadata": {},
   "outputs": [],
   "source": []
  }
 ],
 "metadata": {
  "kernelspec": {
   "display_name": "Python 3 (ipykernel)",
   "language": "python",
   "name": "python3"
  },
  "language_info": {
   "codemirror_mode": {
    "name": "ipython",
    "version": 3
   },
   "file_extension": ".py",
   "mimetype": "text/x-python",
   "name": "python",
   "nbconvert_exporter": "python",
   "pygments_lexer": "ipython3",
   "version": "3.11.7"
  }
 },
 "nbformat": 4,
 "nbformat_minor": 5
}
